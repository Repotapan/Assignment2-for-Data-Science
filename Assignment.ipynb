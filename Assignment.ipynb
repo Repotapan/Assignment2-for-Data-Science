{
 "cells": [
  {
   "cell_type": "markdown",
   "id": "6dfc6f95-28e8-4e9d-be6a-8a672b8f6655",
   "metadata": {},
   "source": [
    "Assignment -2 "
   ]
  },
  {
   "cell_type": "markdown",
   "id": "8d911e7b-7c19-43e7-8f7d-3cc553e08e15",
   "metadata": {},
   "source": [
    "1)"
   ]
  },
  {
   "cell_type": "code",
   "execution_count": 4,
   "id": "0a4bf36a-8cb0-43fe-910a-64753491eb7a",
   "metadata": {},
   "outputs": [
    {
     "name": "stdin",
     "output_type": "stream",
     "text": [
      "Enter your  marks 50\n"
     ]
    },
    {
     "name": "stdout",
     "output_type": "stream",
     "text": [
      "The grade is D\n"
     ]
    }
   ],
   "source": [
    "marks=int(input(\"Enter your  marks\"))\n",
    "if marks>90:\n",
    "    print(\" The grade is A\")\n",
    "elif marks>80 and marks<=90:\n",
    "    print(\"The gradeb is B\")\n",
    "elif marks>=60 and marks<=80:\n",
    "    print(\"The grade is C\" )\n",
    "else:\n",
    "    print(\"The grade is D\")"
   ]
  },
  {
   "cell_type": "markdown",
   "id": "2ba4457d-3a95-461a-849d-044946101344",
   "metadata": {},
   "source": [
    "2)"
   ]
  },
  {
   "cell_type": "code",
   "execution_count": 9,
   "id": "36dda62c-be5a-44c9-a7f0-b957256e8660",
   "metadata": {},
   "outputs": [
    {
     "name": "stdin",
     "output_type": "stream",
     "text": [
      "Enter the cost of the bike:  54\n"
     ]
    },
    {
     "name": "stdout",
     "output_type": "stream",
     "text": [
      "Tax value=5% 2.7\n"
     ]
    }
   ],
   "source": [
    "x=0\n",
    "\n",
    "c=int(input(\"Enter the cost of the bike: \"))\n",
    "\n",
    "if c>100000:\n",
    "\n",
    "    x=15/100*c  \n",
    "\n",
    "    print(\"Tax value=15%\",x)\n",
    "\n",
    "elif c>500000 and c<=100000:\n",
    "\n",
    "   x=10/100*c\n",
    "\n",
    "   print(\"Tax value=10%\",x)\n",
    "\n",
    "elif c<=500000:\n",
    "\n",
    "     x=5/100*c\n",
    "\n",
    "     print(\"Tax value=5%\",x)\n",
    "\n",
    "else:\n",
    "\n",
    "   print(\"There is no tax\")"
   ]
  },
  {
   "cell_type": "markdown",
   "id": "b04b6345-db0c-4713-8f34-3d19d3ec4ec4",
   "metadata": {},
   "source": [
    "3)"
   ]
  },
  {
   "cell_type": "code",
   "execution_count": 14,
   "id": "be9a6458-9528-4824-8b03-d14b752ddd85",
   "metadata": {},
   "outputs": [
    {
     "name": "stdin",
     "output_type": "stream",
     "text": [
      "Enter the city  Agra\n"
     ]
    },
    {
     "name": "stdout",
     "output_type": "stream",
     "text": [
      "The  monument of Agra  is Taj Mahal\n"
     ]
    }
   ],
   "source": [
    "city=input(\"Enter the city \")\n",
    "if city == \"Delhi\":\n",
    "    print(\"The monument of Delhi is Red Fort\")\n",
    "elif city == \"Agra\":\n",
    "    print(\"The  monument of Agra  is Taj Mahal\")\n",
    "elif city == \"jaipur\":\n",
    "    print(\"The  monument of jaipur  is Jal Mahal\")\n",
    "else:\n",
    "    pass"
   ]
  },
  {
   "cell_type": "markdown",
   "id": "27bc1d29-0354-44e9-9ae9-55f0c4e8c9a2",
   "metadata": {},
   "source": [
    "4)"
   ]
  },
  {
   "cell_type": "code",
   "execution_count": 17,
   "id": "f4877d13-f13c-4d58-b524-cd4ec10e2af2",
   "metadata": {},
   "outputs": [
    {
     "name": "stdin",
     "output_type": "stream",
     "text": [
      "Enter a number:  56\n"
     ]
    },
    {
     "name": "stdout",
     "output_type": "stream",
     "text": [
      "The number can be divided by 3 2 times before it is less than or equal to 10\n"
     ]
    }
   ],
   "source": [
    "def divide_by_3(number):\n",
    "    count = 0\n",
    "    while number >= 10:\n",
    "        number = number / 3\n",
    "        count += 1\n",
    "    return count\n",
    "\n",
    "number = int(input(\"Enter a number: \"))\n",
    "print(\"The number can be divided by 3\", divide_by_3(number), \"times before it is less than or equal to 10\")\n"
   ]
  },
  {
   "cell_type": "markdown",
   "id": "afe0003b-15ad-408c-9ced-b33e9fa567e1",
   "metadata": {},
   "source": [
    "5)"
   ]
  },
  {
   "cell_type": "raw",
   "id": "ab4a7182-6d8e-4df6-af66-2c46de051efb",
   "metadata": {},
   "source": [
    " while loop in Python is used to repeatedly execute a block of code as long as a condition remains True. The loop will continue to run until the condition becomes False. Here is the basic structure of a while loop in Python.\n",
    "    \n",
    "The example of while loop is given below: \n",
    "\n",
    "\n",
    "count = 1\n",
    "while count <= 5:\n",
    "    print(count)\n",
    "    count += 1\n"
   ]
  },
  {
   "cell_type": "markdown",
   "id": "44a14d30-10a9-4acc-9378-f56f33e99952",
   "metadata": {},
   "source": [
    "6)"
   ]
  },
  {
   "cell_type": "markdown",
   "id": "6df8878d-c569-4bed-ab64-2e42669f0a9d",
   "metadata": {},
   "source": [
    "a.Triangle pattern"
   ]
  },
  {
   "cell_type": "code",
   "execution_count": 20,
   "id": "9f3f3309-7f13-4346-98d4-bd3c0febdc4c",
   "metadata": {},
   "outputs": [
    {
     "name": "stdout",
     "output_type": "stream",
     "text": [
      "*\n",
      "**\n",
      "***\n",
      "****\n",
      "*****\n"
     ]
    }
   ],
   "source": [
    "rows = 5\n",
    "for i in range(1, rows+1):\n",
    "    j = 1\n",
    "    while j <= i:\n",
    "        print(\"*\", end=\"\")\n",
    "        j += 1\n",
    "    print()"
   ]
  },
  {
   "cell_type": "markdown",
   "id": "087f3397-620c-4e57-af11-995147d7e28e",
   "metadata": {},
   "source": [
    "b) Reverse triangle pattern "
   ]
  },
  {
   "cell_type": "code",
   "execution_count": 21,
   "id": "9f11744a-fde3-4aa7-a4c1-ecb4b5adb1dd",
   "metadata": {},
   "outputs": [
    {
     "name": "stdout",
     "output_type": "stream",
     "text": [
      "*****\n",
      "****\n",
      "***\n",
      "**\n",
      "*\n"
     ]
    }
   ],
   "source": [
    "rows = 5\n",
    "for i in range(rows, 0, -1):\n",
    "    j = 1\n",
    "    while j <= i:\n",
    "        print(\"*\", end=\"\")\n",
    "        j += 1\n",
    "    print()\n"
   ]
  },
  {
   "cell_type": "markdown",
   "id": "10fa9017-90cc-4b07-bac7-e4fb67ad544a",
   "metadata": {},
   "source": [
    "3) Diamond pattern"
   ]
  },
  {
   "cell_type": "code",
   "execution_count": 22,
   "id": "24f114ed-6f65-413e-a0e1-8f0501cd8402",
   "metadata": {},
   "outputs": [
    {
     "name": "stdout",
     "output_type": "stream",
     "text": [
      "    *\n",
      "   **\n",
      "  ***\n",
      " ****\n",
      "*****\n",
      " ****\n",
      "  ***\n",
      "   **\n",
      "    *\n"
     ]
    }
   ],
   "source": [
    "rows = 5\n",
    "for i in range(1, rows+1):\n",
    "    k = rows - i\n",
    "    while k > 0:\n",
    "        print(end=\" \")\n",
    "        k -= 1\n",
    "    j = 1\n",
    "    while j <= i:\n",
    "        print(\"*\", end=\"\")\n",
    "        j += 1\n",
    "    print()\n",
    "for i in range(rows-1, 0, -1):\n",
    "    k = rows - i\n",
    "    while k > 0:\n",
    "        print(end=\" \")\n",
    "        k -= 1\n",
    "    j = 1\n",
    "    while j <= i:\n",
    "        print(\"*\", end=\"\")\n",
    "        j += 1\n",
    "    print()"
   ]
  },
  {
   "cell_type": "markdown",
   "id": "7a52a475-cdf4-4d52-ab5a-33fac3fcb434",
   "metadata": {},
   "source": [
    "7)"
   ]
  },
  {
   "cell_type": "code",
   "execution_count": 23,
   "id": "5a2bf6ac-f914-46e6-b617-6a4314e5983a",
   "metadata": {},
   "outputs": [
    {
     "name": "stdout",
     "output_type": "stream",
     "text": [
      "10\n",
      "9\n",
      "8\n",
      "7\n",
      "6\n",
      "5\n",
      "4\n",
      "3\n",
      "2\n",
      "1\n"
     ]
    }
   ],
   "source": [
    "a =10\n",
    "while a>=1:\n",
    "    print(a)\n",
    "    a=a-1"
   ]
  },
  {
   "cell_type": "markdown",
   "id": "9e2df426-3e6c-4ac2-ae6a-4d0c8ea91515",
   "metadata": {},
   "source": [
    "8)"
   ]
  },
  {
   "cell_type": "code",
   "execution_count": null,
   "id": "2c3d1cb2-776d-4833-bda6-545434d90f97",
   "metadata": {},
   "outputs": [],
   "source": []
  }
 ],
 "metadata": {
  "kernelspec": {
   "display_name": "Python 3 (ipykernel)",
   "language": "python",
   "name": "python3"
  },
  "language_info": {
   "codemirror_mode": {
    "name": "ipython",
    "version": 3
   },
   "file_extension": ".py",
   "mimetype": "text/x-python",
   "name": "python",
   "nbconvert_exporter": "python",
   "pygments_lexer": "ipython3",
   "version": "3.10.8"
  }
 },
 "nbformat": 4,
 "nbformat_minor": 5
}
